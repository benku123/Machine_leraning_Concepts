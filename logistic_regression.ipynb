{
  "nbformat": 4,
  "nbformat_minor": 0,
  "metadata": {
    "colab": {
      "provenance": [],
      "authorship_tag": "ABX9TyNrn3glzZR4xr7aNOV+rVzw",
      "include_colab_link": true
    },
    "kernelspec": {
      "name": "python3",
      "display_name": "Python 3"
    },
    "language_info": {
      "name": "python"
    }
  },
  "cells": [
    {
      "cell_type": "markdown",
      "metadata": {
        "id": "view-in-github",
        "colab_type": "text"
      },
      "source": [
        "<a href=\"https://colab.research.google.com/github/benku123/Machine_leraning_Concepts/blob/main/logistic_regression.ipynb\" target=\"_parent\"><img src=\"https://colab.research.google.com/assets/colab-badge.svg\" alt=\"Open In Colab\"/></a>"
      ]
    },
    {
      "cell_type": "markdown",
      "source": [
        "#logistic Regression (ML)\n",
        "\n",
        "###x = ['income', 'region', 'education_level']\n",
        "###y = ['gender']\n",
        "\n",
        "<p>here data set about income and walfare in Korea. I want to see if a persons gender can affect how much they earn, is there a relationships. This can help us learn more about how fair income distribution is between different genders in Korer</p>"
      ],
      "metadata": {
        "id": "kZRwZGX3gvTs"
      }
    },
    {
      "cell_type": "code",
      "execution_count": null,
      "metadata": {
        "collapsed": true,
        "id": "q7BBO7lMgtEX"
      },
      "outputs": [],
      "source": [
        "import pandas as pd\n",
        "import numpy as np\n",
        "import matplotlib.pyplot as plt\n",
        "\n",
        "from sklearn.model_selection import train_test_split\n",
        "from sklearn.linear_model import LogisticRegression\n",
        "from sklearn.metrics import accuracy_score, confusion_matrix, roc_curve, auc\n",
        "\n",
        "import seaborn as sns\n",
        "from sklearn.metrics import f1_score"
      ]
    },
    {
      "cell_type": "markdown",
      "source": [
        "year study conducted from 2005 to wave 14th in 2018\n",
        "<ul>\n",
        "<li>region: 1) Seoul 2) Kyeong-gi 3) Kyoung-nam 4) Kyoung-buk 5) Chung-nam 6) Gang-won &. Chung-buk 7) Jeolla & Jeju</li>\n",
        "<li>income: yearly income in M KRW(Million Korean Won. 1100 KRW = 1 USD)</li>\n",
        "<li>gender: 1) male 2) female</li>\n",
        "<li>education_level: 1) no education(under 7 yrs-old) 2) no education(7 & over 7 yrs-old) 3) elementary 4) middle school 5) high school 6) college 7) university degree 8) MA 9) doctoral degree</li>\n",
        "</ul>\n",
        "\n",
        "<a href='https://www.kaggle.com/datasets/hongsean/korea-income-and-welfare'>Click here to find on kaggle</a>"
      ],
      "metadata": {
        "id": "RK6CQYdljoXf"
      }
    },
    {
      "cell_type": "code",
      "execution_count": null,
      "outputs": [
        {
          "output_type": "execute_result",
          "data": {
            "text/plain": [
              "      id  year  wave  region  income  family_member  gender  year_born  \\\n",
              "0  10101  2005     1       1   614.0              1       2       1936   \n",
              "1  10101  2011     7       1   896.0              1       2       1936   \n",
              "2  10101  2012     8       1  1310.0              1       2       1936   \n",
              "3  10101  2013     9       1  2208.0              1       2       1936   \n",
              "4  10101  2014    10       1   864.0              1       2       1936   \n",
              "\n",
              "   education_level  marriage  religion occupation company_size  \\\n",
              "0                2         2         2                           \n",
              "1                2         2         2                           \n",
              "2                2         2         2                           \n",
              "3                2         2         2                           \n",
              "4                2         2         2                           \n",
              "\n",
              "  reason_none_worker  \n",
              "0                  8  \n",
              "1                 10  \n",
              "2                 10  \n",
              "3                  1  \n",
              "4                 10  "
            ],
            "text/html": [
              "\n",
              "  <div id=\"df-351368c3-2631-474d-b0a4-e4898796f34a\">\n",
              "    <div class=\"colab-df-container\">\n",
              "      <div>\n",
              "<style scoped>\n",
              "    .dataframe tbody tr th:only-of-type {\n",
              "        vertical-align: middle;\n",
              "    }\n",
              "\n",
              "    .dataframe tbody tr th {\n",
              "        vertical-align: top;\n",
              "    }\n",
              "\n",
              "    .dataframe thead th {\n",
              "        text-align: right;\n",
              "    }\n",
              "</style>\n",
              "<table border=\"1\" class=\"dataframe\">\n",
              "  <thead>\n",
              "    <tr style=\"text-align: right;\">\n",
              "      <th></th>\n",
              "      <th>id</th>\n",
              "      <th>year</th>\n",
              "      <th>wave</th>\n",
              "      <th>region</th>\n",
              "      <th>income</th>\n",
              "      <th>family_member</th>\n",
              "      <th>gender</th>\n",
              "      <th>year_born</th>\n",
              "      <th>education_level</th>\n",
              "      <th>marriage</th>\n",
              "      <th>religion</th>\n",
              "      <th>occupation</th>\n",
              "      <th>company_size</th>\n",
              "      <th>reason_none_worker</th>\n",
              "    </tr>\n",
              "  </thead>\n",
              "  <tbody>\n",
              "    <tr>\n",
              "      <th>0</th>\n",
              "      <td>10101</td>\n",
              "      <td>2005</td>\n",
              "      <td>1</td>\n",
              "      <td>1</td>\n",
              "      <td>614.0</td>\n",
              "      <td>1</td>\n",
              "      <td>2</td>\n",
              "      <td>1936</td>\n",
              "      <td>2</td>\n",
              "      <td>2</td>\n",
              "      <td>2</td>\n",
              "      <td></td>\n",
              "      <td></td>\n",
              "      <td>8</td>\n",
              "    </tr>\n",
              "    <tr>\n",
              "      <th>1</th>\n",
              "      <td>10101</td>\n",
              "      <td>2011</td>\n",
              "      <td>7</td>\n",
              "      <td>1</td>\n",
              "      <td>896.0</td>\n",
              "      <td>1</td>\n",
              "      <td>2</td>\n",
              "      <td>1936</td>\n",
              "      <td>2</td>\n",
              "      <td>2</td>\n",
              "      <td>2</td>\n",
              "      <td></td>\n",
              "      <td></td>\n",
              "      <td>10</td>\n",
              "    </tr>\n",
              "    <tr>\n",
              "      <th>2</th>\n",
              "      <td>10101</td>\n",
              "      <td>2012</td>\n",
              "      <td>8</td>\n",
              "      <td>1</td>\n",
              "      <td>1310.0</td>\n",
              "      <td>1</td>\n",
              "      <td>2</td>\n",
              "      <td>1936</td>\n",
              "      <td>2</td>\n",
              "      <td>2</td>\n",
              "      <td>2</td>\n",
              "      <td></td>\n",
              "      <td></td>\n",
              "      <td>10</td>\n",
              "    </tr>\n",
              "    <tr>\n",
              "      <th>3</th>\n",
              "      <td>10101</td>\n",
              "      <td>2013</td>\n",
              "      <td>9</td>\n",
              "      <td>1</td>\n",
              "      <td>2208.0</td>\n",
              "      <td>1</td>\n",
              "      <td>2</td>\n",
              "      <td>1936</td>\n",
              "      <td>2</td>\n",
              "      <td>2</td>\n",
              "      <td>2</td>\n",
              "      <td></td>\n",
              "      <td></td>\n",
              "      <td>1</td>\n",
              "    </tr>\n",
              "    <tr>\n",
              "      <th>4</th>\n",
              "      <td>10101</td>\n",
              "      <td>2014</td>\n",
              "      <td>10</td>\n",
              "      <td>1</td>\n",
              "      <td>864.0</td>\n",
              "      <td>1</td>\n",
              "      <td>2</td>\n",
              "      <td>1936</td>\n",
              "      <td>2</td>\n",
              "      <td>2</td>\n",
              "      <td>2</td>\n",
              "      <td></td>\n",
              "      <td></td>\n",
              "      <td>10</td>\n",
              "    </tr>\n",
              "  </tbody>\n",
              "</table>\n",
              "</div>\n",
              "      <button class=\"colab-df-convert\" onclick=\"convertToInteractive('df-351368c3-2631-474d-b0a4-e4898796f34a')\"\n",
              "              title=\"Convert this dataframe to an interactive table.\"\n",
              "              style=\"display:none;\">\n",
              "        \n",
              "  <svg xmlns=\"http://www.w3.org/2000/svg\" height=\"24px\"viewBox=\"0 0 24 24\"\n",
              "       width=\"24px\">\n",
              "    <path d=\"M0 0h24v24H0V0z\" fill=\"none\"/>\n",
              "    <path d=\"M18.56 5.44l.94 2.06.94-2.06 2.06-.94-2.06-.94-.94-2.06-.94 2.06-2.06.94zm-11 1L8.5 8.5l.94-2.06 2.06-.94-2.06-.94L8.5 2.5l-.94 2.06-2.06.94zm10 10l.94 2.06.94-2.06 2.06-.94-2.06-.94-.94-2.06-.94 2.06-2.06.94z\"/><path d=\"M17.41 7.96l-1.37-1.37c-.4-.4-.92-.59-1.43-.59-.52 0-1.04.2-1.43.59L10.3 9.45l-7.72 7.72c-.78.78-.78 2.05 0 2.83L4 21.41c.39.39.9.59 1.41.59.51 0 1.02-.2 1.41-.59l7.78-7.78 2.81-2.81c.8-.78.8-2.07 0-2.86zM5.41 20L4 18.59l7.72-7.72 1.47 1.35L5.41 20z\"/>\n",
              "  </svg>\n",
              "      </button>\n",
              "      \n",
              "  <style>\n",
              "    .colab-df-container {\n",
              "      display:flex;\n",
              "      flex-wrap:wrap;\n",
              "      gap: 12px;\n",
              "    }\n",
              "\n",
              "    .colab-df-convert {\n",
              "      background-color: #E8F0FE;\n",
              "      border: none;\n",
              "      border-radius: 50%;\n",
              "      cursor: pointer;\n",
              "      display: none;\n",
              "      fill: #1967D2;\n",
              "      height: 32px;\n",
              "      padding: 0 0 0 0;\n",
              "      width: 32px;\n",
              "    }\n",
              "\n",
              "    .colab-df-convert:hover {\n",
              "      background-color: #E2EBFA;\n",
              "      box-shadow: 0px 1px 2px rgba(60, 64, 67, 0.3), 0px 1px 3px 1px rgba(60, 64, 67, 0.15);\n",
              "      fill: #174EA6;\n",
              "    }\n",
              "\n",
              "    [theme=dark] .colab-df-convert {\n",
              "      background-color: #3B4455;\n",
              "      fill: #D2E3FC;\n",
              "    }\n",
              "\n",
              "    [theme=dark] .colab-df-convert:hover {\n",
              "      background-color: #434B5C;\n",
              "      box-shadow: 0px 1px 3px 1px rgba(0, 0, 0, 0.15);\n",
              "      filter: drop-shadow(0px 1px 2px rgba(0, 0, 0, 0.3));\n",
              "      fill: #FFFFFF;\n",
              "    }\n",
              "  </style>\n",
              "\n",
              "      <script>\n",
              "        const buttonEl =\n",
              "          document.querySelector('#df-351368c3-2631-474d-b0a4-e4898796f34a button.colab-df-convert');\n",
              "        buttonEl.style.display =\n",
              "          google.colab.kernel.accessAllowed ? 'block' : 'none';\n",
              "\n",
              "        async function convertToInteractive(key) {\n",
              "          const element = document.querySelector('#df-351368c3-2631-474d-b0a4-e4898796f34a');\n",
              "          const dataTable =\n",
              "            await google.colab.kernel.invokeFunction('convertToInteractive',\n",
              "                                                     [key], {});\n",
              "          if (!dataTable) return;\n",
              "\n",
              "          const docLinkHtml = 'Like what you see? Visit the ' +\n",
              "            '<a target=\"_blank\" href=https://colab.research.google.com/notebooks/data_table.ipynb>data table notebook</a>'\n",
              "            + ' to learn more about interactive tables.';\n",
              "          element.innerHTML = '';\n",
              "          dataTable['output_type'] = 'display_data';\n",
              "          await google.colab.output.renderOutput(dataTable, element);\n",
              "          const docLink = document.createElement('div');\n",
              "          docLink.innerHTML = docLinkHtml;\n",
              "          element.appendChild(docLink);\n",
              "        }\n",
              "      </script>\n",
              "    </div>\n",
              "  </div>\n",
              "  "
            ]
          },
          "metadata": {},
          "execution_count": 11
        }
      ],
      "source": [
        "#read Excel file into a DataFrame\n",
        "df = pd.read_csv(\"/content/sample_data/Korea Income and Welfare.csv\")\n",
        "df.head()\n"
      ],
      "metadata": {
        "pycharm": {
          "name": "#%%\n"
        },
        "id": "5K973wmugtEZ",
        "outputId": "192f4813-c98d-486c-e558-cc4bdf749c59",
        "colab": {
          "base_uri": "https://localhost:8080/",
          "height": 206
        }
      }
    },
    {
      "cell_type": "code",
      "execution_count": null,
      "outputs": [
        {
          "output_type": "execute_result",
          "data": {
            "text/plain": [
              "                 id          year          wave        region         income  \\\n",
              "count  9.285700e+04  92857.000000  92857.000000  92857.000000   92857.000000   \n",
              "mean   4.365181e+07   2011.517958      7.517958      3.691353    3441.122327   \n",
              "std    2.619007e+07      4.011222      4.011222      2.058961    4176.324522   \n",
              "min    1.010100e+04   2005.000000      1.000000      1.000000 -232174.000000   \n",
              "25%    2.177120e+07   2008.000000      4.000000      2.000000    1140.000000   \n",
              "50%    4.322010e+07   2012.000000      8.000000      3.000000    2428.000000   \n",
              "75%    6.190030e+07   2015.000000     11.000000      5.000000    4695.000000   \n",
              "max    9.800070e+07   2018.000000     14.000000      7.000000  468209.000000   \n",
              "\n",
              "       family_member        gender     year_born  education_level  \\\n",
              "count   92857.000000  92857.000000  92857.000000     92857.000000   \n",
              "mean        2.484304      1.296316   1952.956740         4.511895   \n",
              "std         1.292251      0.456634     16.006065         1.669887   \n",
              "min         1.000000      1.000000   1910.000000         2.000000   \n",
              "25%         1.000000      1.000000   1939.000000         3.000000   \n",
              "50%         2.000000      1.000000   1952.000000         5.000000   \n",
              "75%         3.000000      2.000000   1966.000000         5.000000   \n",
              "max         9.000000      2.000000   2002.000000         9.000000   \n",
              "\n",
              "           marriage      religion  \n",
              "count  92857.000000  92857.000000  \n",
              "mean       1.679389      1.499521  \n",
              "std        1.103413      0.531572  \n",
              "min        0.000000      1.000000  \n",
              "25%        1.000000      1.000000  \n",
              "50%        1.000000      1.000000  \n",
              "75%        2.000000      2.000000  \n",
              "max        9.000000      9.000000  "
            ],
            "text/html": [
              "\n",
              "  <div id=\"df-3b652772-a7f1-44ca-8feb-6b3a713003a2\">\n",
              "    <div class=\"colab-df-container\">\n",
              "      <div>\n",
              "<style scoped>\n",
              "    .dataframe tbody tr th:only-of-type {\n",
              "        vertical-align: middle;\n",
              "    }\n",
              "\n",
              "    .dataframe tbody tr th {\n",
              "        vertical-align: top;\n",
              "    }\n",
              "\n",
              "    .dataframe thead th {\n",
              "        text-align: right;\n",
              "    }\n",
              "</style>\n",
              "<table border=\"1\" class=\"dataframe\">\n",
              "  <thead>\n",
              "    <tr style=\"text-align: right;\">\n",
              "      <th></th>\n",
              "      <th>id</th>\n",
              "      <th>year</th>\n",
              "      <th>wave</th>\n",
              "      <th>region</th>\n",
              "      <th>income</th>\n",
              "      <th>family_member</th>\n",
              "      <th>gender</th>\n",
              "      <th>year_born</th>\n",
              "      <th>education_level</th>\n",
              "      <th>marriage</th>\n",
              "      <th>religion</th>\n",
              "    </tr>\n",
              "  </thead>\n",
              "  <tbody>\n",
              "    <tr>\n",
              "      <th>count</th>\n",
              "      <td>9.285700e+04</td>\n",
              "      <td>92857.000000</td>\n",
              "      <td>92857.000000</td>\n",
              "      <td>92857.000000</td>\n",
              "      <td>92857.000000</td>\n",
              "      <td>92857.000000</td>\n",
              "      <td>92857.000000</td>\n",
              "      <td>92857.000000</td>\n",
              "      <td>92857.000000</td>\n",
              "      <td>92857.000000</td>\n",
              "      <td>92857.000000</td>\n",
              "    </tr>\n",
              "    <tr>\n",
              "      <th>mean</th>\n",
              "      <td>4.365181e+07</td>\n",
              "      <td>2011.517958</td>\n",
              "      <td>7.517958</td>\n",
              "      <td>3.691353</td>\n",
              "      <td>3441.122327</td>\n",
              "      <td>2.484304</td>\n",
              "      <td>1.296316</td>\n",
              "      <td>1952.956740</td>\n",
              "      <td>4.511895</td>\n",
              "      <td>1.679389</td>\n",
              "      <td>1.499521</td>\n",
              "    </tr>\n",
              "    <tr>\n",
              "      <th>std</th>\n",
              "      <td>2.619007e+07</td>\n",
              "      <td>4.011222</td>\n",
              "      <td>4.011222</td>\n",
              "      <td>2.058961</td>\n",
              "      <td>4176.324522</td>\n",
              "      <td>1.292251</td>\n",
              "      <td>0.456634</td>\n",
              "      <td>16.006065</td>\n",
              "      <td>1.669887</td>\n",
              "      <td>1.103413</td>\n",
              "      <td>0.531572</td>\n",
              "    </tr>\n",
              "    <tr>\n",
              "      <th>min</th>\n",
              "      <td>1.010100e+04</td>\n",
              "      <td>2005.000000</td>\n",
              "      <td>1.000000</td>\n",
              "      <td>1.000000</td>\n",
              "      <td>-232174.000000</td>\n",
              "      <td>1.000000</td>\n",
              "      <td>1.000000</td>\n",
              "      <td>1910.000000</td>\n",
              "      <td>2.000000</td>\n",
              "      <td>0.000000</td>\n",
              "      <td>1.000000</td>\n",
              "    </tr>\n",
              "    <tr>\n",
              "      <th>25%</th>\n",
              "      <td>2.177120e+07</td>\n",
              "      <td>2008.000000</td>\n",
              "      <td>4.000000</td>\n",
              "      <td>2.000000</td>\n",
              "      <td>1140.000000</td>\n",
              "      <td>1.000000</td>\n",
              "      <td>1.000000</td>\n",
              "      <td>1939.000000</td>\n",
              "      <td>3.000000</td>\n",
              "      <td>1.000000</td>\n",
              "      <td>1.000000</td>\n",
              "    </tr>\n",
              "    <tr>\n",
              "      <th>50%</th>\n",
              "      <td>4.322010e+07</td>\n",
              "      <td>2012.000000</td>\n",
              "      <td>8.000000</td>\n",
              "      <td>3.000000</td>\n",
              "      <td>2428.000000</td>\n",
              "      <td>2.000000</td>\n",
              "      <td>1.000000</td>\n",
              "      <td>1952.000000</td>\n",
              "      <td>5.000000</td>\n",
              "      <td>1.000000</td>\n",
              "      <td>1.000000</td>\n",
              "    </tr>\n",
              "    <tr>\n",
              "      <th>75%</th>\n",
              "      <td>6.190030e+07</td>\n",
              "      <td>2015.000000</td>\n",
              "      <td>11.000000</td>\n",
              "      <td>5.000000</td>\n",
              "      <td>4695.000000</td>\n",
              "      <td>3.000000</td>\n",
              "      <td>2.000000</td>\n",
              "      <td>1966.000000</td>\n",
              "      <td>5.000000</td>\n",
              "      <td>2.000000</td>\n",
              "      <td>2.000000</td>\n",
              "    </tr>\n",
              "    <tr>\n",
              "      <th>max</th>\n",
              "      <td>9.800070e+07</td>\n",
              "      <td>2018.000000</td>\n",
              "      <td>14.000000</td>\n",
              "      <td>7.000000</td>\n",
              "      <td>468209.000000</td>\n",
              "      <td>9.000000</td>\n",
              "      <td>2.000000</td>\n",
              "      <td>2002.000000</td>\n",
              "      <td>9.000000</td>\n",
              "      <td>9.000000</td>\n",
              "      <td>9.000000</td>\n",
              "    </tr>\n",
              "  </tbody>\n",
              "</table>\n",
              "</div>\n",
              "      <button class=\"colab-df-convert\" onclick=\"convertToInteractive('df-3b652772-a7f1-44ca-8feb-6b3a713003a2')\"\n",
              "              title=\"Convert this dataframe to an interactive table.\"\n",
              "              style=\"display:none;\">\n",
              "        \n",
              "  <svg xmlns=\"http://www.w3.org/2000/svg\" height=\"24px\"viewBox=\"0 0 24 24\"\n",
              "       width=\"24px\">\n",
              "    <path d=\"M0 0h24v24H0V0z\" fill=\"none\"/>\n",
              "    <path d=\"M18.56 5.44l.94 2.06.94-2.06 2.06-.94-2.06-.94-.94-2.06-.94 2.06-2.06.94zm-11 1L8.5 8.5l.94-2.06 2.06-.94-2.06-.94L8.5 2.5l-.94 2.06-2.06.94zm10 10l.94 2.06.94-2.06 2.06-.94-2.06-.94-.94-2.06-.94 2.06-2.06.94z\"/><path d=\"M17.41 7.96l-1.37-1.37c-.4-.4-.92-.59-1.43-.59-.52 0-1.04.2-1.43.59L10.3 9.45l-7.72 7.72c-.78.78-.78 2.05 0 2.83L4 21.41c.39.39.9.59 1.41.59.51 0 1.02-.2 1.41-.59l7.78-7.78 2.81-2.81c.8-.78.8-2.07 0-2.86zM5.41 20L4 18.59l7.72-7.72 1.47 1.35L5.41 20z\"/>\n",
              "  </svg>\n",
              "      </button>\n",
              "      \n",
              "  <style>\n",
              "    .colab-df-container {\n",
              "      display:flex;\n",
              "      flex-wrap:wrap;\n",
              "      gap: 12px;\n",
              "    }\n",
              "\n",
              "    .colab-df-convert {\n",
              "      background-color: #E8F0FE;\n",
              "      border: none;\n",
              "      border-radius: 50%;\n",
              "      cursor: pointer;\n",
              "      display: none;\n",
              "      fill: #1967D2;\n",
              "      height: 32px;\n",
              "      padding: 0 0 0 0;\n",
              "      width: 32px;\n",
              "    }\n",
              "\n",
              "    .colab-df-convert:hover {\n",
              "      background-color: #E2EBFA;\n",
              "      box-shadow: 0px 1px 2px rgba(60, 64, 67, 0.3), 0px 1px 3px 1px rgba(60, 64, 67, 0.15);\n",
              "      fill: #174EA6;\n",
              "    }\n",
              "\n",
              "    [theme=dark] .colab-df-convert {\n",
              "      background-color: #3B4455;\n",
              "      fill: #D2E3FC;\n",
              "    }\n",
              "\n",
              "    [theme=dark] .colab-df-convert:hover {\n",
              "      background-color: #434B5C;\n",
              "      box-shadow: 0px 1px 3px 1px rgba(0, 0, 0, 0.15);\n",
              "      filter: drop-shadow(0px 1px 2px rgba(0, 0, 0, 0.3));\n",
              "      fill: #FFFFFF;\n",
              "    }\n",
              "  </style>\n",
              "\n",
              "      <script>\n",
              "        const buttonEl =\n",
              "          document.querySelector('#df-3b652772-a7f1-44ca-8feb-6b3a713003a2 button.colab-df-convert');\n",
              "        buttonEl.style.display =\n",
              "          google.colab.kernel.accessAllowed ? 'block' : 'none';\n",
              "\n",
              "        async function convertToInteractive(key) {\n",
              "          const element = document.querySelector('#df-3b652772-a7f1-44ca-8feb-6b3a713003a2');\n",
              "          const dataTable =\n",
              "            await google.colab.kernel.invokeFunction('convertToInteractive',\n",
              "                                                     [key], {});\n",
              "          if (!dataTable) return;\n",
              "\n",
              "          const docLinkHtml = 'Like what you see? Visit the ' +\n",
              "            '<a target=\"_blank\" href=https://colab.research.google.com/notebooks/data_table.ipynb>data table notebook</a>'\n",
              "            + ' to learn more about interactive tables.';\n",
              "          element.innerHTML = '';\n",
              "          dataTable['output_type'] = 'display_data';\n",
              "          await google.colab.output.renderOutput(dataTable, element);\n",
              "          const docLink = document.createElement('div');\n",
              "          docLink.innerHTML = docLinkHtml;\n",
              "          element.appendChild(docLink);\n",
              "        }\n",
              "      </script>\n",
              "    </div>\n",
              "  </div>\n",
              "  "
            ]
          },
          "metadata": {},
          "execution_count": 12
        }
      ],
      "source": [
        "df.describe()"
      ],
      "metadata": {
        "pycharm": {
          "name": "#%%\n"
        },
        "id": "Rrg2DglUgtEZ",
        "outputId": "8fd094da-51d5-40b0-840d-7d7c0a81a40f",
        "colab": {
          "base_uri": "https://localhost:8080/",
          "height": 300
        }
      }
    },
    {
      "cell_type": "code",
      "source": [
        "#correcting dataset, 1 to 0:False and 2 to 1:True\n",
        "df = df.dropna(subset=['gender'])\n",
        "print(df['gender'].unique())\n",
        "df['gender'] = df['gender'].map({1: 0, 2: 1}) #change to boolean variable"
      ],
      "metadata": {
        "pycharm": {
          "name": "#%%\n"
        },
        "id": "DtopcxwSgtEa",
        "colab": {
          "base_uri": "https://localhost:8080/"
        },
        "outputId": "1698bb6b-8730-45bc-b61d-9a01cb9e665e"
      },
      "execution_count": null,
      "outputs": [
        {
          "output_type": "stream",
          "name": "stdout",
          "text": [
            "[2 1]\n"
          ]
        }
      ]
    },
    {
      "cell_type": "code",
      "execution_count": null,
      "outputs": [],
      "source": [
        "# 70% for training, 15% for cross-validation, and 15% for testing\n",
        "train_df, temp_df = train_test_split(df, test_size=0.3, random_state=42)\n",
        "cv_df, test_df = train_test_split(temp_df, test_size=0.5, random_state=42)\n",
        "\n",
        "X_train = train_df[['income', 'region', 'education_level']]\n",
        "Y_train = train_df['gender']\n",
        "\n",
        "X_cv = cv_df[['income', 'region', 'education_level']]\n",
        "Y_cv = cv_df['gender']"
      ],
      "metadata": {
        "pycharm": {
          "name": "#%%\n"
        },
        "id": "ZJ8rp-8JgtEa"
      }
    },
    {
      "cell_type": "code",
      "execution_count": null,
      "outputs": [
        {
          "output_type": "execute_result",
          "data": {
            "text/plain": [
              "LogisticRegression()"
            ],
            "text/html": [
              "<style>#sk-container-id-1 {color: black;background-color: white;}#sk-container-id-1 pre{padding: 0;}#sk-container-id-1 div.sk-toggleable {background-color: white;}#sk-container-id-1 label.sk-toggleable__label {cursor: pointer;display: block;width: 100%;margin-bottom: 0;padding: 0.3em;box-sizing: border-box;text-align: center;}#sk-container-id-1 label.sk-toggleable__label-arrow:before {content: \"▸\";float: left;margin-right: 0.25em;color: #696969;}#sk-container-id-1 label.sk-toggleable__label-arrow:hover:before {color: black;}#sk-container-id-1 div.sk-estimator:hover label.sk-toggleable__label-arrow:before {color: black;}#sk-container-id-1 div.sk-toggleable__content {max-height: 0;max-width: 0;overflow: hidden;text-align: left;background-color: #f0f8ff;}#sk-container-id-1 div.sk-toggleable__content pre {margin: 0.2em;color: black;border-radius: 0.25em;background-color: #f0f8ff;}#sk-container-id-1 input.sk-toggleable__control:checked~div.sk-toggleable__content {max-height: 200px;max-width: 100%;overflow: auto;}#sk-container-id-1 input.sk-toggleable__control:checked~label.sk-toggleable__label-arrow:before {content: \"▾\";}#sk-container-id-1 div.sk-estimator input.sk-toggleable__control:checked~label.sk-toggleable__label {background-color: #d4ebff;}#sk-container-id-1 div.sk-label input.sk-toggleable__control:checked~label.sk-toggleable__label {background-color: #d4ebff;}#sk-container-id-1 input.sk-hidden--visually {border: 0;clip: rect(1px 1px 1px 1px);clip: rect(1px, 1px, 1px, 1px);height: 1px;margin: -1px;overflow: hidden;padding: 0;position: absolute;width: 1px;}#sk-container-id-1 div.sk-estimator {font-family: monospace;background-color: #f0f8ff;border: 1px dotted black;border-radius: 0.25em;box-sizing: border-box;margin-bottom: 0.5em;}#sk-container-id-1 div.sk-estimator:hover {background-color: #d4ebff;}#sk-container-id-1 div.sk-parallel-item::after {content: \"\";width: 100%;border-bottom: 1px solid gray;flex-grow: 1;}#sk-container-id-1 div.sk-label:hover label.sk-toggleable__label {background-color: #d4ebff;}#sk-container-id-1 div.sk-serial::before {content: \"\";position: absolute;border-left: 1px solid gray;box-sizing: border-box;top: 0;bottom: 0;left: 50%;z-index: 0;}#sk-container-id-1 div.sk-serial {display: flex;flex-direction: column;align-items: center;background-color: white;padding-right: 0.2em;padding-left: 0.2em;position: relative;}#sk-container-id-1 div.sk-item {position: relative;z-index: 1;}#sk-container-id-1 div.sk-parallel {display: flex;align-items: stretch;justify-content: center;background-color: white;position: relative;}#sk-container-id-1 div.sk-item::before, #sk-container-id-1 div.sk-parallel-item::before {content: \"\";position: absolute;border-left: 1px solid gray;box-sizing: border-box;top: 0;bottom: 0;left: 50%;z-index: -1;}#sk-container-id-1 div.sk-parallel-item {display: flex;flex-direction: column;z-index: 1;position: relative;background-color: white;}#sk-container-id-1 div.sk-parallel-item:first-child::after {align-self: flex-end;width: 50%;}#sk-container-id-1 div.sk-parallel-item:last-child::after {align-self: flex-start;width: 50%;}#sk-container-id-1 div.sk-parallel-item:only-child::after {width: 0;}#sk-container-id-1 div.sk-dashed-wrapped {border: 1px dashed gray;margin: 0 0.4em 0.5em 0.4em;box-sizing: border-box;padding-bottom: 0.4em;background-color: white;}#sk-container-id-1 div.sk-label label {font-family: monospace;font-weight: bold;display: inline-block;line-height: 1.2em;}#sk-container-id-1 div.sk-label-container {text-align: center;}#sk-container-id-1 div.sk-container {/* jupyter's `normalize.less` sets `[hidden] { display: none; }` but bootstrap.min.css set `[hidden] { display: none !important; }` so we also need the `!important` here to be able to override the default hidden behavior on the sphinx rendered scikit-learn.org. See: https://github.com/scikit-learn/scikit-learn/issues/21755 */display: inline-block !important;position: relative;}#sk-container-id-1 div.sk-text-repr-fallback {display: none;}</style><div id=\"sk-container-id-1\" class=\"sk-top-container\"><div class=\"sk-text-repr-fallback\"><pre>LogisticRegression()</pre><b>In a Jupyter environment, please rerun this cell to show the HTML representation or trust the notebook. <br />On GitHub, the HTML representation is unable to render, please try loading this page with nbviewer.org.</b></div><div class=\"sk-container\" hidden><div class=\"sk-item\"><div class=\"sk-estimator sk-toggleable\"><input class=\"sk-toggleable__control sk-hidden--visually\" id=\"sk-estimator-id-1\" type=\"checkbox\" checked><label for=\"sk-estimator-id-1\" class=\"sk-toggleable__label sk-toggleable__label-arrow\">LogisticRegression</label><div class=\"sk-toggleable__content\"><pre>LogisticRegression()</pre></div></div></div></div></div>"
            ]
          },
          "metadata": {},
          "execution_count": 15
        }
      ],
      "source": [
        "#Training model\n",
        "model = LogisticRegression()\n",
        "model.fit(X_train, Y_train)"
      ],
      "metadata": {
        "pycharm": {
          "name": "#%%\n"
        },
        "id": "0-LmU8ZGgtEa",
        "outputId": "079d87c0-b982-4161-f667-69b2ccb9a79b",
        "colab": {
          "base_uri": "https://localhost:8080/",
          "height": 74
        }
      }
    },
    {
      "cell_type": "code",
      "execution_count": null,
      "outputs": [
        {
          "output_type": "stream",
          "name": "stdout",
          "text": [
            "w = [[-3.54711761e-04 -6.26502982e-02 -4.69347611e-01]]\n",
            "y = [2.21601295]\n"
          ]
        }
      ],
      "source": [
        "#w and y values\n",
        "print(f\"w = {model.coef_}\")\n",
        "print(f\"y = {model.intercept_}\")"
      ],
      "metadata": {
        "pycharm": {
          "name": "#%%\n"
        },
        "id": "-EBbJC49gtEb",
        "outputId": "cc0bd389-c200-494e-f713-81342210a171",
        "colab": {
          "base_uri": "https://localhost:8080/"
        }
      }
    },
    {
      "cell_type": "code",
      "execution_count": null,
      "outputs": [
        {
          "output_type": "stream",
          "name": "stdout",
          "text": [
            "F1 score (model 1):  0.5974736293788254\n",
            "Accuracy:  0.7780888793165338\n",
            "Confusion Matrix: \n",
            " [[8544 1177]\n",
            " [1914 2294]]\n"
          ]
        },
        {
          "output_type": "display_data",
          "data": {
            "text/plain": [
              "<Figure size 500x500 with 1 Axes>"
            ],
            "image/png": "[encoded data removed]"
          },
          "metadata": {}
        },
        {
          "output_type": "display_data",
          "data": {
            "text/plain": [
              "<Figure size 640x480 with 1 Axes>"
            ],
            "image/png": "[encoded data removed]"
          },
          "metadata": {}
        }
      ],
      "source": [
        "#evaluating model\n",
        "predictions_cv = model.predict(X_cv)\n",
        "\n",
        "f1_model1 = f1_score(Y_cv, predictions_cv)\n",
        "print('F1 score (model 1): ', f1_model1)\n",
        "\n",
        "\n",
        "accuracy = accuracy_score(Y_cv, predictions_cv)\n",
        "print('Accuracy: ', accuracy)\n",
        "\n",
        "cm = confusion_matrix(Y_cv, predictions_cv)\n",
        "print('Confusion Matrix: \\n', cm)\n",
        "\n",
        "plt.figure(figsize=(5,5))\n",
        "sns.heatmap(cm, annot=True, fmt='d', cbar=False, square=True, cmap='Blues')\n",
        "plt.ylabel('Actual')\n",
        "plt.xlabel('Predicted')\n",
        "plt.title('Confusion Matrix', size = 15)\n",
        "\n",
        "# ROC curve\n",
        "probs = model.predict_proba(X_cv)\n",
        "preds = probs[:,1]\n",
        "fpr, tpr, threshold = roc_curve(Y_cv, preds)\n",
        "roc_auc = auc(fpr, tpr)\n",
        "\n",
        "plt.figure()\n",
        "plt.plot(fpr, tpr, label='Logistic Regression (area = %0.2f)' % roc_auc)\n",
        "plt.plot([0, 1], [0, 1],'r--')\n",
        "plt.xlim([0.0, 1.0])\n",
        "plt.ylim([0.0, 1.05])\n",
        "plt.xlabel('False Positive Rate')\n",
        "plt.ylabel('True Positive Rate')\n",
        "plt.title('Receiver Operating Characteristic')\n",
        "plt.legend(loc=\"lower right\")\n",
        "plt.show()"
      ],
      "metadata": {
        "pycharm": {
          "name": "#%%\n"
        },
        "id": "ZVn_ir7LgtEb",
        "outputId": "efcde2f4-4040-4414-cb87-741186a09315",
        "colab": {
          "base_uri": "https://localhost:8080/",
          "height": 1000
        }
      }
    },
    {
      "cell_type": "code",
      "execution_count": null,
      "outputs": [
        {
          "output_type": "stream",
          "name": "stdout",
          "text": [
            "epoch: 0 j(w) = 0.4849418726538594 | w = [-0.0008457   0.00012444 -0.00134786]\n",
            "epoch: 100 j(w) = 0.46459080110664647 | w = [-0.07549044  0.00934179 -0.12230467]\n",
            "epoch: 200 j(w) = 0.4513930024945504 | w = [-0.13559484  0.01351585 -0.21994018]\n",
            "epoch: 300 j(w) = 0.4426160564062989 | w = [-0.18513289  0.01424002 -0.29932432]\n",
            "epoch: 400 j(w) = 0.43664715720738795 | w = [-0.22661441  0.01265345 -0.36436577]\n",
            "epoch: 500 j(w) = 0.4324899932106599 | w = [-0.26182036  0.00955619 -0.41803828]\n",
            "epoch: 600 j(w) = 0.4295516222353756 | w = [-0.29204882  0.00550766 -0.46260752]\n",
            "epoch: 700 j(w) = 0.4274407832295954 | w = [-0.31826643  0.00089915 -0.49981448]\n",
            "epoch: 800 j(w) = 0.42590225578749413 | w = [-0.34120714 -0.00399556 -0.53101207]\n",
            "epoch: 900 j(w) = 0.42476608202339755 | w = [-0.36143798 -0.00898527 -0.55726398]\n",
            "epoch: 1000 j(w) = 0.42391693652669554 | w = [-0.37940393 -0.01393739 -0.57941608]\n"
          ]
        }
      ],
      "source": [
        "#initial parameters\n",
        "w = np.zeros(3)\n",
        "m = len(df)\n",
        "alpha = 0.01\n",
        "\n",
        "def sigmoid(z):\n",
        "    return 1 / (1 + np.exp(-z))\n",
        "\n",
        "def h(w, x):\n",
        "    z = np.dot(x, w)\n",
        "    return sigmoid(z)\n",
        "\n",
        "#cost function\n",
        "def cost(w, x, y):\n",
        "    epsilon = 1e-5\n",
        "    h_val = h(w, x)\n",
        "    h_val = np.clip(h_val, epsilon, 1 - epsilon)  # clip predictions to avoid log(0)\n",
        "    total_cost = -np.sum(y * np.log(h_val) + (1 - y) * np.log(1 - h_val))\n",
        "    return total_cost / m\n",
        "\n",
        "#gradient descent\n",
        "def gradient_descent(w, x, y, num_iter):\n",
        "    for i in range(num_iter):\n",
        "        predicted_sub_actual = h(w, x) - y\n",
        "        w = w - alpha * np.dot(x.T, predicted_sub_actual) / m\n",
        "        if i % 100 == 0:\n",
        "            print(f\"epoch: {i} j(w) = {cost(w, x, y)} | w = {w}\")\n",
        "    return w\n",
        "\n",
        "x = train_df[['income', 'region', 'education_level']].values\n",
        "y = train_df['gender'].values\n",
        "\n",
        "#normalize features\n",
        "x = (x - np.mean(x, axis=0)) / np.std(x, axis=0)\n",
        "\n",
        "w = gradient_descent(w, x, y, 1001)"
      ],
      "metadata": {
        "pycharm": {
          "name": "#%%\n"
        },
        "id": "4GewVygagtEc",
        "outputId": "178d2fa3-13ee-488e-8dca-9478554374da",
        "colab": {
          "base_uri": "https://localhost:8080/"
        }
      }
    },
    {
      "cell_type": "code",
      "execution_count": null,
      "outputs": [
        {
          "output_type": "stream",
          "name": "stdout",
          "text": [
            "F1 score (model 2):  0.5995635093845482\n",
            "Accuracy:  0.670687055782899\n"
          ]
        }
      ],
      "source": [
        "# predict function\n",
        "def predict(w, x):\n",
        "    prob = h(w, x)\n",
        "    return prob >= 0.5  # returns a boolean array\n",
        "\n",
        "# normalize cv data\n",
        "x_cv = X_cv.values\n",
        "x_cv = (x_cv - np.mean(x_cv, axis=0)) / np.std(x_cv, axis=0)\n",
        "predictions_cv = predict(w, x_cv)\n",
        "\n",
        "\n",
        "\n",
        "f1_model2 = f1_score(Y_cv, predictions_cv)\n",
        "print('F1 score (model 2): ', f1_model2)\n",
        "\n",
        "# calculate accuracy\n",
        "accuracy = accuracy_score(Y_cv, predictions_cv)\n",
        "print('Accuracy: ', accuracy)\n"
      ],
      "metadata": {
        "pycharm": {
          "name": "#%%\n"
        },
        "id": "EUxprCEggtEc",
        "outputId": "a04cbb84-2b4c-438e-bb22-9e8f3a5f5e76",
        "colab": {
          "base_uri": "https://localhost:8080/"
        }
      }
    }
  ]
}